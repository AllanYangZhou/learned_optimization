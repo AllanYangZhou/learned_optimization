{
 "cells": [
  {
   "cell_type": "markdown",
   "id": "79e8786c",
   "metadata": {
    "id": "ryqPvTKI19zH"
   },
   "source": [
    "# Part 1: Introduction\n",
    "The goal of this colab is to introduce the core abstractions used within this library.\n",
    "These include the `Task` and `Optimizer` objects.\n",
    "\n",
    "We will first introduce these abstractions and illustrate basic functionality. We will then show how to define a custom `Optimizer`, and how to optimize optimizers via gradient-based meta-training.\n",
    "\n",
    "This colab serves as a brief, limited introduction to the capabilities of the library. Further notebooks introduce further functionality as well as more complex learned optimizer models."
   ]
  },
  {
   "cell_type": "markdown",
   "id": "1804e47a",
   "metadata": {
    "id": "FyfbHOeU2RL8"
   },
   "source": [
    "## Prerequisites\n",
    "\n",
    "This document assumes knowledge of JAX which is covered in depth at the [JAX Docs](https://jax.readthedocs.io/en/latest/index.html).\n",
    "In particular, we would recomend making your way through [JAX tutorial 101](https://jax.readthedocs.io/en/latest/jax-101/index.html)."
   ]
  },
  {
   "cell_type": "code",
   "execution_count": null,
   "id": "d5252d7c",
   "metadata": {
    "id": "dLD5VE3EACSI"
   },
   "outputs": [],
   "source": [
    "!pip install git+https://github.com/google/learned_optimization.git"
   ]
  },
  {
   "cell_type": "code",
   "execution_count": null,
   "id": "2bec5785",
   "metadata": {
    "id": "HHYLexWR2BZK"
   },
   "outputs": [],
   "source": [
    "import numpy as np\n",
    "import jax.numpy as jnp\n",
    "import jax\n",
    "from matplotlib import pylab as plt\n",
    "\n",
    "from learned_optimization.outer_trainers import full_es\n",
    "from learned_optimization.outer_trainers import truncated_pes\n",
    "from learned_optimization.outer_trainers import gradient_learner\n",
    "from learned_optimization.outer_trainers import truncation_schedule\n",
    "\n",
    "from learned_optimization.tasks import quadratics\n",
    "from learned_optimization.tasks import fixed_mlp\n",
    "from learned_optimization.tasks import base as tasks_base\n",
    "from learned_optimization.tasks.datasets import base as datasets_base\n",
    "\n",
    "from learned_optimization.learned_optimizers import base as lopt_base\n",
    "from learned_optimization.learned_optimizers import mlp_lopt\n",
    "from learned_optimization.optimizers import base as opt_base\n",
    "\n",
    "from learned_optimization import optimizers\n",
    "from learned_optimization import eval_training\n",
    "\n",
    "import haiku as hk\n",
    "import tqdm"
   ]
  },
  {
   "cell_type": "markdown",
   "id": "8626c860",
   "metadata": {
    "id": "oX9d589m2YPv"
   },
   "source": [
    "## Tasks\n",
    "\n",
    "A `Task` is an object containing a specification of a machine learning or optimization problem. The `Task` requires:\n",
    "  * Parameters: for example, these may include the decision variables of an arbitrary optimization problem, or parameters of a predictive model such as a neural network. These are initialized through the `init` method.\n",
    "  * Optionally a model state: this includes model parameters which are not to be updated via gradients. One example is the running population statistics used within batch norm.\n",
    "  * Optionally, a `.dataset` attribute with iterators of datasets.\n",
    "  * A loss function: this maps from the parameters, and possibly a batch of data to a loss.\n",
    "\n",
    "This object can be thought of as a loss function, and these are the base objects we train learned optimizers to perform well on.\n",
    "\n",
    "Tasks contain the following:\n",
    "  * A `init` function which initializes the parameters of the task.\n",
    "  * A `loss` function, which evaluates the loss given parameters and data.\n",
    "  * Optionally a `.dataset` attribute with iterators of datasets.\n",
    "\n",
    "For tasks which make use of a model state (e.g. tasks with batchnorm), a `init_with_state` and `loss_with_state` will also be provided.\n",
    "\n",
    "We'll begin by looking at some built-in tasks in the library. In future colabs, we will discuss how custom tasks can be designed, and how families of tasks can be efficiently designed for parallelization.\n",
    "\n",
    "We will look at the `FashionMnistRelu32_8` task. This task consists of a 1 hidden layer MLP trained on Fashion MNIST resized to 8x8.\n",
    "\n",
    "First, let's initialize the parameters."
   ]
  },
  {
   "cell_type": "code",
   "execution_count": null,
   "id": "3ba5b487",
   "metadata": {
    "id": "xQQ-82RFIlln"
   },
   "outputs": [],
   "source": [
    "key = jax.random.PRNGKey(0)\n",
    "task = fixed_mlp.FashionMnistRelu32_8()\n",
    "\n",
    "params = task.init(key)\n",
    "jax.tree_map(lambda x: x.shape, params)"
   ]
  },
  {
   "cell_type": "markdown",
   "id": "76e9eb5a",
   "metadata": {
    "id": "jZc2JfTxLCq8"
   },
   "source": [
    "We can see we initialized parameters which correspond to the weights of the MLP.\n",
    "\n",
    "Next, let's look at the data."
   ]
  },
  {
   "cell_type": "code",
   "execution_count": null,
   "id": "1ba495f2",
   "metadata": {
    "id": "28fk2PfOLQWy"
   },
   "outputs": [],
   "source": [
    "batch = next(task.datasets.train)\n",
    "jax.tree_map(lambda x: (x.shape, x.dtype), batch)"
   ]
  },
  {
   "cell_type": "markdown",
   "id": "7791352c",
   "metadata": {
    "id": "nLY1PbqxLcRp"
   },
   "source": [
    "We get batches of 128 with images of size 8x8 and labels stored as integers.\n",
    "\n",
    "To compute losses, we can call the `loss` function. Some loss functions can be stochastic. For these, in addition to passing in params, and the batch of data, we also pass in a random number."
   ]
  },
  {
   "cell_type": "code",
   "execution_count": null,
   "id": "1b5c98a4",
   "metadata": {
    "id": "_w4Na8ppLP8W"
   },
   "outputs": [],
   "source": [
    "key, key1 = jax.random.split(key)\n",
    "\n",
    "loss = task.loss(params, key1, batch)\n",
    "loss"
   ]
  },
  {
   "cell_type": "markdown",
   "id": "7fc8c5bb",
   "metadata": {
    "id": "UnSk-UqNL_PA"
   },
   "source": [
    "Function transformations can also be used to compute gradients."
   ]
  },
  {
   "cell_type": "code",
   "execution_count": null,
   "id": "b0450e6a",
   "metadata": {
    "id": "BXKorJb4MC-u"
   },
   "outputs": [],
   "source": [
    "loss, grad = jax.value_and_grad(task.loss)(params, key1, batch)\n",
    "jax.tree_map(lambda x: x.shape, grad)"
   ]
  },
  {
   "cell_type": "markdown",
   "id": "1c58d48f",
   "metadata": {
    "id": "d-rzlJALMWLd"
   },
   "source": [
    "Now let's pull this together to train this task with SGD. Note that we will _jit_ the loss gradient computation for improved performance---if this is not familiar, we recommend reading about [Just in Time Compilation with JAX](https://jax.readthedocs.io/en/latest/jax-101/02-jitting.html)."
   ]
  },
  {
   "cell_type": "code",
   "execution_count": null,
   "id": "f8755315",
   "metadata": {
    "id": "5ypAKqlqMf1e"
   },
   "outputs": [],
   "source": [
    "grad_fn = jax.jit(jax.value_and_grad(task.loss))\n",
    "key = jax.random.PRNGKey(0)\n",
    "params = task.init(key)\n",
    "lr = 0.1\n",
    "\n",
    "for i in range(1000):\n",
    "  key, key1 = jax.random.split(key)\n",
    "  batch = next(task.datasets.train)\n",
    "  l, grads = grad_fn(params, key1, batch)\n",
    "  # apply SGD to each parameter\n",
    "  params = jax.tree_map(lambda p, g: p - lr * g, params, grads)\n",
    "  if i % 100 == 0:\n",
    "    test_l = task.loss(params, key, next(task.datasets.test))\n",
    "    print(f\"train loss at {i}: {float(l)}. Test loss: {float(test_l)}\")"
   ]
  },
  {
   "cell_type": "markdown",
   "id": "69435f62",
   "metadata": {
    "id": "TytyVsF8Nol1"
   },
   "source": [
    "Note the evaluations in the above are quite noisy as they are only done on a single batch of data."
   ]
  },
  {
   "cell_type": "markdown",
   "id": "44118122",
   "metadata": {
    "id": "jyJoJC3zOpH0"
   },
   "source": [
    "## Optimizers\n",
    "We have so far implemented a rough SGD optimizer to train our model parameters. In this section, we will develop useful abstractions to create more powerful optimizers.\n",
    "\n",
    "Sadly there is no gold standard interface for optimizers in Jax: there are Flax's optimizers, optax optimizers, optimizers from jaxopt, and optix. This library uses it's own interface to expose additional types of inputs to the optimizer. These additional inputs will become more obvious when we discuss learned optimizers later in this colab, as well as in future colabs.\n",
    "\n",
    "\n",
    "In this library, optimizers are stateless classes that implement:\n",
    "  * an `init` which creates an `OptimizerState` instance which wraps parameters and optionally a model stats as well as contains any additional optimizer state needed (e.g. momentum values)\n",
    "  * a `get_params` and `get_state`  which return the parameters and state of the `OptimizerState`.\n",
    "  * an `update` function which takes in a previous optimizer state, gradients, and optionally a loss values to produce a new `OptimizerState` (with new parameters).\n",
    "\n",
    "\n",
    "Let's look at a couple examples. First, SGD:"
   ]
  },
  {
   "cell_type": "code",
   "execution_count": null,
   "id": "428edcec",
   "metadata": {
    "id": "pPzF1KD9RNLK"
   },
   "outputs": [],
   "source": [
    "fake_params = {\"a\": jnp.zeros((2,))}\n",
    "\n",
    "opt = opt_base.SGD(1e-4)\n",
    "opt_state = opt.init(fake_params)\n",
    "opt_state"
   ]
  },
  {
   "cell_type": "markdown",
   "id": "aa05ed3b",
   "metadata": {
    "id": "K8ezKWoDSU_d"
   },
   "source": [
    "We can see the `opt_state` has parameter values, and a couple other values such as current iteration."
   ]
  },
  {
   "cell_type": "code",
   "execution_count": null,
   "id": "ec3cae97",
   "metadata": {
    "id": "6AD8CTQOSaR7"
   },
   "outputs": [],
   "source": [
    "opt = opt_base.Adam(1e-4)\n",
    "opt_state = opt.init(fake_params)\n",
    "opt_state"
   ]
  },
  {
   "cell_type": "markdown",
   "id": "d4e988b2",
   "metadata": {
    "id": "-fKs57O5SeMY"
   },
   "source": [
    "Adam, on the other hand, has more data inside as it contains first and second moment accumulators.\n",
    "\n",
    "Now let's take one step with an optimizer."
   ]
  },
  {
   "cell_type": "code",
   "execution_count": null,
   "id": "3ead31ff",
   "metadata": {
    "id": "yOBZfwxjSjV_"
   },
   "outputs": [],
   "source": [
    "fake_grads = {\"a\": jnp.ones((2,))}\n",
    "fake_loss = 10.\n",
    "\n",
    "next_opt_state = opt.update(opt_state, fake_grads, fake_loss)\n",
    "opt.get_params(next_opt_state)"
   ]
  },
  {
   "cell_type": "markdown",
   "id": "ed2b041e",
   "metadata": {
    "id": "1j2R8-VGS0OX"
   },
   "source": [
    "We can see the parameters of our model have been updated slightly.\n",
    "\n",
    "Now let's pull this all together and train a Task with this optimizer API."
   ]
  },
  {
   "cell_type": "code",
   "execution_count": null,
   "id": "4d5f83cf",
   "metadata": {
    "id": "klycie9FS7vJ"
   },
   "outputs": [],
   "source": [
    "task = fixed_mlp.FashionMnistRelu32_8()\n",
    "key = jax.random.PRNGKey(0)\n",
    "params = task.init(key)\n",
    "\n",
    "opt = opt_base.Adam(1e-2)\n",
    "opt_state = opt.init(params)\n",
    "\n",
    "for i in range(10):\n",
    "  batch = next(task.datasets.train)\n",
    "  key, key1 = jax.random.split(key)\n",
    "  params = opt.get_params(opt_state)\n",
    "  loss, grads = jax.value_and_grad(task.loss)(params, key1, batch)\n",
    "  opt_state = opt.update(opt_state, grads, loss)\n",
    "  print(loss)"
   ]
  },
  {
   "cell_type": "markdown",
   "id": "6f858b21",
   "metadata": {
    "id": "hJWeOzzQTs_J"
   },
   "source": [
    "The above doesn't make use of any sort of `jax.jit` and thus it is slow. In practice, we often like to create one update function which maps from one `opt_state` to the next and jit this entire function. For example:"
   ]
  },
  {
   "cell_type": "code",
   "execution_count": null,
   "id": "bbeecbb0",
   "metadata": {
    "id": "A0qeh0ZWT9qD"
   },
   "outputs": [],
   "source": [
    "task = fixed_mlp.FashionMnistRelu32_8()\n",
    "key = jax.random.PRNGKey(0)\n",
    "params = task.init(key)\n",
    "\n",
    "opt = opt_base.Adam(1e-2)\n",
    "opt_state = opt.init(params)\n",
    "\n",
    "\n",
    "@jax.jit\n",
    "def update(opt_state, key, batch):\n",
    "  key, key1 = jax.random.split(key)\n",
    "  params, model_state = opt.get_params_state(opt_state)\n",
    "  loss, grads = jax.value_and_grad(task.loss)(params, key1, batch)\n",
    "  opt_state = opt.update(opt_state, grads, loss=loss)\n",
    "\n",
    "  return opt_state, key, loss\n",
    "\n",
    "\n",
    "for i in range(10):\n",
    "  batch = next(task.datasets.train)\n",
    "  opt_state, key, loss = update(opt_state, key, batch)\n",
    "  print(loss)"
   ]
  },
  {
   "cell_type": "markdown",
   "id": "e8ee5e98",
   "metadata": {
    "id": "PgTqylxGRITt"
   },
   "source": [
    "### Defining a custom `Optimizer`\n",
    "\n",
    "To define a custom optimizer, one simply needs to define a stateless instance of the `Optimizer` class and some pytree object with the optimizer state.\n",
    "\n",
    "As an example let's implement the momentum optimizer. As our state we will use a flax dataclass (though a simple dictionary or named tuple would also suffice)."
   ]
  },
  {
   "cell_type": "code",
   "execution_count": null,
   "id": "f1d9983c",
   "metadata": {
    "id": "BWGUWw1GI6-8"
   },
   "outputs": [],
   "source": [
    "import flax\n",
    "from typing import Any\n",
    "\n",
    "\n",
    "@flax.struct.dataclass\n",
    "class MomentumOptState:\n",
    "  params: Any\n",
    "  model_state: Any\n",
    "  iteration: jnp.ndarray\n",
    "  momentums: Any\n",
    "\n",
    "\n",
    "class MomentumOptimizer(opt_base.Optimizer):\n",
    "\n",
    "  def __init__(self, lr=1e-3, momentum=0.9):\n",
    "    super().__init__()\n",
    "    self._lr = lr\n",
    "    self._momentum = momentum\n",
    "\n",
    "  def get_state(self, opt_state):\n",
    "    return opt_state.model_state\n",
    "\n",
    "  def get_params(self, opt_state):\n",
    "    return opt_state.params\n",
    "\n",
    "  def init(self, params, model_state=None, **kwargs):\n",
    "    return MomentumOptState(\n",
    "        params=params,\n",
    "        model_state=model_state,\n",
    "        momentums=jax.tree_map(jnp.zeros_like, params),\n",
    "        iteration=jnp.asarray(0, dtype=jnp.int32))\n",
    "\n",
    "  def update(self, opt_state, grads, loss, model_state=None, **kwargs):\n",
    "    struct = jax.tree_structure(grads)\n",
    "    flat_momentum = jax.tree_leaves(opt_state.momentums)\n",
    "    flat_grads = jax.tree_leaves(grads)\n",
    "    flat_params = jax.tree_leaves(opt_state.params)\n",
    "\n",
    "    output_params = []\n",
    "    output_momentums = []\n",
    "    for m, g, p in zip(flat_momentum, flat_grads, flat_params):\n",
    "      next_m = m * self._momentum + g * (1 - self._momentum)\n",
    "      next_p = p - next_m * self._lr\n",
    "      output_params.append(next_p)\n",
    "      output_momentums.append(next_m)\n",
    "    return MomentumOptState(\n",
    "        params=jax.tree_unflatten(struct, output_params),\n",
    "        model_state=model_state,\n",
    "        iteration=opt_state.iteration + 1,\n",
    "        momentums=jax.tree_unflatten(struct, output_params),\n",
    "    )\n",
    "\n",
    "\n",
    "opt = MomentumOptimizer(lr=1)\n",
    "opt_state = opt.init({\"a\": 1.0, \"b\": 2.0})\n",
    "opt.update(opt_state, {\"a\": -1.0, \"b\": 1.0}, 1.0)"
   ]
  },
  {
   "cell_type": "markdown",
   "id": "bb3b2d56",
   "metadata": {
    "id": "EasqQh1TYuhC"
   },
   "source": [
    "## Learned Optimizers\n",
    "\n",
    "Learned optimizers are simply optimizers parameterized by some additional set of variables, often called `theta` by convention.\n",
    "\n",
    "Like before, instances of `LearnedOptimizer` should contain no immutable state.\n",
    "\n",
    "They implement 2 functions:\n",
    "  * `init` which initializes the weights of the learned optimizer (e.g. randomly as done with neural networks, or with some fixed values).\n",
    "  * `opt_fn` which takes in the parameters of the learned optimizer, and produces an `Optimizer` instance.\n",
    "\n",
    "\n",
    "One of the simplest forms of learned optimizer is a hand-designed optimizer with meta-learnable hyperparameters. Let's look at `LearnableAdam`:"
   ]
  },
  {
   "cell_type": "code",
   "execution_count": null,
   "id": "74994191",
   "metadata": {
    "id": "UGUPaUnrZur-"
   },
   "outputs": [],
   "source": [
    "lopt = lopt_base.LearnableAdam()\n",
    "theta = lopt.init(key)\n",
    "theta"
   ]
  },
  {
   "cell_type": "markdown",
   "id": "ffd16891",
   "metadata": {
    "id": "nsbp3Sl7Zyct"
   },
   "source": [
    "We see this optimizer has 4 meta-learnable parameters corresponding to log learning rate, 2 values for beta (parameterized as the log of one minus the beta values), and log epsilon.\n",
    "\n",
    "We can access an instance of the optimizer with the opt_fn, and use that optimizer just like the ones in the previous section."
   ]
  },
  {
   "cell_type": "code",
   "execution_count": null,
   "id": "42a815f7",
   "metadata": {
    "id": "uMmrvgAyZ7_D"
   },
   "outputs": [],
   "source": [
    "opt = lopt.opt_fn(theta)\n",
    "opt_state = opt.init({\"p\": jnp.zeros([\n",
    "    2,\n",
    "])})"
   ]
  },
  {
   "cell_type": "markdown",
   "id": "3ff2f9de",
   "metadata": {
    "id": "cMC3oBf8aLsT"
   },
   "source": [
    "With our optimizers split up in this way we can now write functions that are a function of the learned optimizer weights.\n",
    "\n",
    "As an example, let us define a function, `meta_loss` which is the result of applying a learned optimizer to a given problem for some number of steps."
   ]
  },
  {
   "cell_type": "code",
   "execution_count": null,
   "id": "9f12857e",
   "metadata": {
    "id": "6pm07D0haajD"
   },
   "outputs": [],
   "source": [
    "task = fixed_mlp.FashionMnistRelu32_8()\n",
    "key = jax.random.PRNGKey(0)\n",
    "\n",
    "lopt = lopt_base.LearnableAdam()\n",
    "\n",
    "\n",
    "def meta_loss(theta, key, batch):\n",
    "  opt = lopt.opt_fn(theta)\n",
    "  key1, key = jax.random.split(key)\n",
    "  param = task.init(key1)\n",
    "  opt_state = opt.init(param)\n",
    "  for i in range(4):\n",
    "    param = opt.get_params(opt_state)\n",
    "    key1, key = jax.random.split(key)\n",
    "    l, grad = jax.value_and_grad(task.loss)(param, key1, batch)\n",
    "    opt_state = opt.update(opt_state, grad, l)\n",
    "\n",
    "  param, state = opt.get_params_state(opt_state)\n",
    "  key1, key = jax.random.split(key)\n",
    "  final_loss = task.loss(param, key1, batch)\n",
    "  return final_loss\n",
    "\n",
    "\n",
    "batch = next(task.datasets.train)\n",
    "meta_loss(theta, key, batch)"
   ]
  },
  {
   "cell_type": "markdown",
   "id": "62570b2a",
   "metadata": {
    "id": "5B2m8ahObRik"
   },
   "source": [
    "But let's not stop there, we can leverage jax now to easily compute meta-gradients, or gradients with respect to the weights of the learned optimizer. This will take a bit to compile (~20 seconds on my machine) as this computation graph is a bit complex. Note: this can be greatly reduced by leveraging `jax.lax.scan`!"
   ]
  },
  {
   "cell_type": "code",
   "execution_count": null,
   "id": "2c9436c0",
   "metadata": {
    "id": "RzXuxJRTbWqF"
   },
   "outputs": [],
   "source": [
    "meta_value_and_grad = jax.jit(jax.value_and_grad(meta_loss))\n",
    "\n",
    "ml, meta_grad = meta_value_and_grad(theta, key, batch)\n",
    "meta_grad"
   ]
  },
  {
   "cell_type": "markdown",
   "id": "89cff28b",
   "metadata": {
    "id": "Tx35AOaYbva3"
   },
   "source": [
    "We can see that this meta-gradient is saying we should increase the log learning rate to improve performance.\n",
    "\n",
    "We can now meta-train by using an additional optimizer -- this time to optimize `theta`, the weights of the learned optimizer."
   ]
  },
  {
   "cell_type": "code",
   "execution_count": null,
   "id": "f6d01adc",
   "metadata": {
    "id": "d0eRqFMYb8LS"
   },
   "outputs": [],
   "source": [
    "theta_opt = opt_base.Adam(1e-2)\n",
    "\n",
    "key = jax.random.PRNGKey(0)\n",
    "theta = lopt.init(key)\n",
    "theta_opt_state = theta_opt.init(theta)\n",
    "\n",
    "learning_rates = []\n",
    "learnable_adam_meta_losses = []\n",
    "for i in range(2000):\n",
    "  batch = next(task.datasets.train)\n",
    "  key, key1 = jax.random.split(key)\n",
    "  theta = theta_opt.get_params(theta_opt_state)\n",
    "  ml, meta_grad = meta_value_and_grad(theta, key, batch)\n",
    "  theta_opt_state = theta_opt.update(theta_opt_state, meta_grad, ml)\n",
    "  learning_rates.append(theta[\"log_lr\"])\n",
    "  learnable_adam_meta_losses.append(ml)\n",
    "  if i % 100 == 0:\n",
    "    print(ml)"
   ]
  },
  {
   "cell_type": "code",
   "execution_count": null,
   "id": "66847b40",
   "metadata": {
    "id": "sdaoU5ssc-Cu"
   },
   "outputs": [],
   "source": [
    "import numpy as np\n",
    "from matplotlib import pylab as plt\n",
    "\n",
    "plt.semilogy(np.exp(learning_rates))\n",
    "plt.ylabel(\"learning rate\")\n",
    "plt.xlabel(\"meta-iteration\")"
   ]
  },
  {
   "cell_type": "markdown",
   "id": "4a9dcd07",
   "metadata": {
    "id": "Xs6BY33BdSka"
   },
   "source": [
    "And there you have it: we have used gradient-based meta-training to train the hyperparameters of our Adam optimizer! This is the core idea in learned optimizers.\n",
    "\n",
    "Fitting a handful of scalars is a relatively simple application of the tools we have developed. In this library there are a number of more complex learned optimizers. We will explore these models, as well as more complex library functionality, in the next colab notebook."
   ]
  }
 ],
 "metadata": {
  "jupytext": {
   "formats": "ipynb,md:myst,py",
   "main_language": "python"
  },
  "kernelspec": {
   "display_name": "Python 3",
   "name": "python3"
  }
 },
 "nbformat": 4,
 "nbformat_minor": 5
}
