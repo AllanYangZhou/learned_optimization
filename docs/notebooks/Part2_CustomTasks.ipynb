{
 "cells": [
  {
   "cell_type": "markdown",
   "id": "0c97b1e4",
   "metadata": {
    "id": "moshuXIJI2v8"
   },
   "source": [
    "# Part 2: Custom Tasks, Task Families, and Performance Improvements\n",
    "\n",
    "In this part, we will look at how to define custom tasks and datasets. We will also consider _families_ of tasks, which are common specifications of meta-learning problems. Finally, we will look at how to efficiently parallelize over tasks during training."
   ]
  },
  {
   "cell_type": "markdown",
   "id": "11da321e",
   "metadata": {
    "id": "FyfbHOeU2RL8"
   },
   "source": [
    "## Prerequisites\n",
    "\n",
    "This document assumes knowledge of JAX which is covered in depth at the [JAX Docs](https://jax.readthedocs.io/en/latest/index.html).\n",
    "In particular, we would recomend making your way through [JAX tutorial 101](https://jax.readthedocs.io/en/latest/jax-101/index.html). We also recommend that you have worked your way through Part 1."
   ]
  },
  {
   "cell_type": "code",
   "execution_count": null,
   "id": "f57b4f1a",
   "metadata": {
    "id": "poKoG6orBYNi"
   },
   "outputs": [],
   "source": [
    "!pip install git+https://github.com/google/learned_optimization.git"
   ]
  },
  {
   "cell_type": "code",
   "execution_count": null,
   "id": "28082653",
   "metadata": {
    "id": "HHYLexWR2BZK"
   },
   "outputs": [],
   "source": [
    "import numpy as np\n",
    "import jax.numpy as jnp\n",
    "import jax\n",
    "from matplotlib import pylab as plt\n",
    "\n",
    "from learned_optimization.outer_trainers import full_es\n",
    "from learned_optimization.outer_trainers import truncated_pes\n",
    "from learned_optimization.outer_trainers import gradient_learner\n",
    "from learned_optimization.outer_trainers import truncation_schedule\n",
    "\n",
    "from learned_optimization.tasks import quadratics\n",
    "from learned_optimization.tasks.fixed import image_mlp\n",
    "from learned_optimization.tasks import base as tasks_base\n",
    "from learned_optimization.tasks.datasets import base as datasets_base\n",
    "\n",
    "from learned_optimization.learned_optimizers import base as lopt_base\n",
    "from learned_optimization.learned_optimizers import mlp_lopt\n",
    "from learned_optimization.optimizers import base as opt_base\n",
    "\n",
    "from learned_optimization import optimizers\n",
    "from learned_optimization import eval_training\n",
    "\n",
    "import haiku as hk\n",
    "import tqdm"
   ]
  },
  {
   "cell_type": "markdown",
   "id": "8f15cc22",
   "metadata": {
    "id": "Y4foHdLSqkBs"
   },
   "source": [
    "## Defining a custom Dataset\n",
    "\n",
    "The dataset's in this library consists of iterators which yield batches of the corresponding data. For the provided tasks, these dataset have 4 splits of data rather than the traditional 3. We have \"train\" which is data used by the task to train a model, \"inner_valid\" which contains validation data for use when inner training (training an instance of a task). This could be use for, say, picking hparams. \"outer_valid\" which is used to meta-train with -- this is unseen in inner training and thus serves as a basis to train learned optimizers against. \"test\" which can be used to test the learned optimizer with.\n",
    "\n",
    "To make a dataset, simply write 4 iterators with these splits.\n",
    "\n",
    "For performance reasons, creating these iterators cannot be slow.\n",
    "The existing dataset's make extensive use of caching to share iterators across tasks which use the same data iterators.\n",
    "To account for this reuse, it is expected that these iterators are always randomly sampling data and have a large shuffle buffer so as to not run into any sampling issues."
   ]
  },
  {
   "cell_type": "code",
   "execution_count": null,
   "id": "c10269d0",
   "metadata": {
    "id": "IpgZo8RoqmE1"
   },
   "outputs": [],
   "source": [
    "import numpy as np\n",
    "\n",
    "\n",
    "def data_iterator():\n",
    "  bs = 3\n",
    "  while True:\n",
    "    batch = {\"data\": np.zeros([bs, 5])}\n",
    "    yield batch\n",
    "\n",
    "\n",
    "@datasets_base.dataset_lru_cache\n",
    "def get_datasets():\n",
    "  return datasets_base.Datasets(\n",
    "      train=data_iterator(),\n",
    "      inner_valid=data_iterator(),\n",
    "      outer_valid=data_iterator(),\n",
    "      test=data_iterator())\n",
    "\n",
    "\n",
    "ds = get_datasets()\n",
    "next(ds.train)"
   ]
  },
  {
   "cell_type": "markdown",
   "id": "095647e5",
   "metadata": {
    "id": "l6aOBXMhQ_Pe"
   },
   "source": [
    "## Defining a custom `Task`\n",
    "\n",
    "To define a custom class, one simply needs to write a base class of `Task`. Let's look at a simple task consisting of a quadratic task with noisy targets."
   ]
  },
  {
   "cell_type": "code",
   "execution_count": null,
   "id": "930bbeba",
   "metadata": {
    "id": "oyKqzLvnnyhs"
   },
   "outputs": [],
   "source": [
    "# First we construct data iterators.\n",
    "def noise_datasets():\n",
    "\n",
    "  def _fn():\n",
    "    while True:\n",
    "      yield np.random.normal(size=[4, 2]).astype(dtype=np.float32)\n",
    "\n",
    "  return datasets_base.Datasets(\n",
    "      train=_fn(), inner_valid=_fn(), outer_valid=_fn(), test=_fn())\n",
    "\n",
    "\n",
    "class MyTask(tasks_base.Task):\n",
    "  datasets = noise_datasets()\n",
    "\n",
    "  def loss(self, params, state, rng, data):\n",
    "    return jnp.sum(jnp.square(params - data)), None\n",
    "\n",
    "  def init(self, key):\n",
    "    return jax.random.normal(key, shape=(4, 2)), None\n",
    "\n",
    "\n",
    "task = MyTask()\n",
    "key = jax.random.PRNGKey(0)\n",
    "key1, key = jax.random.split(key)\n",
    "params, state = task.init(key)\n",
    "\n",
    "task.loss(params, state, key1, next(task.datasets.train))"
   ]
  },
  {
   "cell_type": "markdown",
   "id": "80620a72",
   "metadata": {
    "id": "yGOo6ixjhbR-"
   },
   "source": [
    "## Meta-training on multiple tasks: `TaskFamily`\n",
    "\n",
    "What we have shown previously was meta-training on a single task instance.\n",
    "While sometimes this is sufficient for a given situation, in many situations we seek to meta-train a meta-learning algorithm such as a learned optimizer on a mixture of different tasks.\n",
    "\n",
    "One path to do this is to simply run more than one meta-gradient computation, each with different tasks, average the gradients, and perform one meta-update.\n",
    "This works great when the tasks are quite different -- e.g. meta-gradients when training a convnet vs a MLP.\n",
    "A big negative to this is that these meta-gradient calculations are happening sequentially, and thus making poor use of hardware accelerators like GPU or TPU.\n",
    "\n",
    "As a solution to this problem, we have an abstraction of a `TaskFamily` to enable better use of hardware. A `TaskFamily` represents a distribution over a set of tasks and specifies particular samples from this distribution as a pytree of jax types.\n",
    "\n",
    "The function to sample these configurations is called `sample`, and the function to get a task from the sampled config is `task_fn`. `TaskFamily` also optionally contain datasets which are shared for all the `Task` it creates.\n",
    "\n",
    "As a simple example, let's consider a family of quadratics parameterized by meansquared error to some point which itself is sampled."
   ]
  },
  {
   "cell_type": "code",
   "execution_count": null,
   "id": "a68f8db5",
   "metadata": {
    "id": "F4XUCBeRlPe4"
   },
   "outputs": [],
   "source": [
    "PRNGKey = jnp.ndarray\n",
    "TaskParams = jnp.ndarray\n",
    "\n",
    "\n",
    "class FixedDimQuadraticFamily(tasks_base.TaskFamily):\n",
    "  \"\"\"A simple TaskFamily with a fixed dimensionality but sampled target.\"\"\"\n",
    "\n",
    "  def __init__(self, dim: int):\n",
    "    super().__init__()\n",
    "    self._dim = dim\n",
    "    self.datasets = None\n",
    "\n",
    "  def sample(self, key: PRNGKey) -> TaskParams:\n",
    "    # Sample the target for the quadratic task.\n",
    "    return jax.random.normal(key, shape=(self._dim,))\n",
    "\n",
    "  def task_fn(self, task_params: TaskParams) -> tasks_base.Task:\n",
    "    dim = self._dim\n",
    "\n",
    "    class _Task(tasks_base.Task):\n",
    "\n",
    "      def loss(self, params, state, rng, _):\n",
    "        # Compute MSE to the target task.\n",
    "        return jnp.sum(jnp.square(task_params - params)), state\n",
    "\n",
    "      def init(self, key):\n",
    "        return jax.random.normal(key, shape=(dim,)), None\n",
    "\n",
    "    return _Task()"
   ]
  },
  {
   "cell_type": "markdown",
   "id": "c855610f",
   "metadata": {
    "id": "EO1UBpJYltYc"
   },
   "source": [
    "*With* this task family defined, we can create instances by sampling a configuration and creating a task. This task acts like any other task in that it has an `init` and a `loss` function."
   ]
  },
  {
   "cell_type": "code",
   "execution_count": null,
   "id": "beffb904",
   "metadata": {
    "id": "dhmYO4r3lx5g"
   },
   "outputs": [],
   "source": [
    "task_family = FixedDimQuadraticFamily(10)\n",
    "key = jax.random.PRNGKey(0)\n",
    "task_cfg = task_family.sample(key)\n",
    "task = task_family.task_fn(task_cfg)\n",
    "\n",
    "key1, key = jax.random.split(key)\n",
    "params, model_state = task.init(key)\n",
    "batch = None\n",
    "task.loss(params, key, batch)"
   ]
  },
  {
   "cell_type": "markdown",
   "id": "fc9d63c8",
   "metadata": {
    "id": "QsYxiGvvdX8Y"
   },
   "source": [
    "To achive speedups, we can now leverage `jax.vmap` to train *multiple* task instances in parallel! Depending on the task, this can be considerably faster than serially executing them."
   ]
  },
  {
   "cell_type": "code",
   "execution_count": null,
   "id": "147f9a85",
   "metadata": {
    "id": "-xdtw53zmkS7"
   },
   "outputs": [],
   "source": [
    "def train_task(cfg, key):\n",
    "  task = task_family.task_fn(cfg)\n",
    "  key1, key = jax.random.split(key)\n",
    "  params, model_state = task.init(key1)\n",
    "  opt = opt_base.Adam()\n",
    "\n",
    "  opt_state = opt.init(params, model_state)\n",
    "\n",
    "  for i in range(4):\n",
    "    params, model_state = opt.get_params_state(opt_state)\n",
    "    (loss, model_state), grad = jax.value_and_grad(\n",
    "        task.loss, has_aux=True)(params, model_state, key, None)\n",
    "    opt_state = opt.update(opt_state, grad, loss, model_state)\n",
    "  loss = task.loss(params, key, None)\n",
    "  return loss\n",
    "\n",
    "\n",
    "task_cfg = task_family.sample(key)\n",
    "print(\"single loss\", train_task(task_cfg, key))\n",
    "\n",
    "keys = jax.random.split(key, 32)\n",
    "task_cfgs = jax.vmap(task_family.sample)(keys)\n",
    "losses = jax.vmap(train_task)(task_cfgs, keys)\n",
    "print(\"multiple losses\", losses)"
   ]
  },
  {
   "cell_type": "markdown",
   "id": "5588577c",
   "metadata": {
    "id": "GGkMPurVoUp4"
   },
   "source": [
    "Because of this ability to apply vmap over task families, this is the main building block for a number of the high level libraries in this package. Single tasks can always be converted to a task family with:"
   ]
  },
  {
   "cell_type": "code",
   "execution_count": null,
   "id": "fc22620f",
   "metadata": {
    "id": "xJtAFmcUofez"
   },
   "outputs": [],
   "source": [
    "single_task = image_mlp.ImageMLP_FashionMnist8_Relu32()\n",
    "task_family = tasks_base.single_task_to_family(single_task)"
   ]
  },
  {
   "cell_type": "markdown",
   "id": "a88f5d8e",
   "metadata": {
    "id": "mFOa2JDZokiy"
   },
   "source": [
    "This wrapper task family has no configuable value and always returns the base task."
   ]
  },
  {
   "cell_type": "code",
   "execution_count": null,
   "id": "bc1bd009",
   "metadata": {
    "id": "-5D0P1-qoon8"
   },
   "outputs": [],
   "source": [
    "cfg = task_family.sample(key)\n",
    "print(\"config only contains a dummy value:\", cfg)\n",
    "task = task_family.task_fn(cfg)\n",
    "# Tasks are the same\n",
    "assert task == single_task"
   ]
  },
  {
   "cell_type": "markdown",
   "id": "bb126c77",
   "metadata": {
    "id": "wHBnOXEInnRs"
   },
   "source": [
    "## Limitations of `TaskFamily`\n",
    "Task families are designed for, and only work for variation that results in a static computation graph. This is required for `jax.vmap` to work.\n",
    "\n",
    "This means things like naively changing hidden sizes, or number of layers, activation functions is off the table.\n",
    "\n",
    "In some cases, one can leverage other jax control flow such as `jax.lax.cond` to select between implementations. For example, one could make a `TaskFamily` that used one of 2 activation functions. While this works, the resulting vectorized computation could be slow and thus profiling is required to determine if this is a good idea or not.\n",
    "\n",
    "In this code base, we use `TaskFamily` to mainly parameterize over different kinds of initializations."
   ]
  }
 ],
 "metadata": {
  "jupytext": {
   "formats": "ipynb,md:myst,py",
   "main_language": "python"
  },
  "kernelspec": {
   "display_name": "Python 3",
   "name": "python3"
  }
 },
 "nbformat": 4,
 "nbformat_minor": 5
}
