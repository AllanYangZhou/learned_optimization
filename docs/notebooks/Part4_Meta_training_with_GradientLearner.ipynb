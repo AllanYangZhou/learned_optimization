{
 "cells": [
  {
   "cell_type": "markdown",
   "metadata": {
    "id": "a7QBk71UMifh"
   },
   "source": [
    "# Part 4: Meta-training with GradientLearner"
   ]
  },
  {
   "cell_type": "code",
   "execution_count": 10,
   "metadata": {
    "executionInfo": {
     "elapsed": 118,
     "status": "ok",
     "timestamp": 1642474445264,
     "user": {
      "displayName": "Luke Metz",
      "photoUrl": "https://lh3.googleusercontent.com/a-/AOh14Gif9m36RuSe53tMVslYQLofCkRX0_Y47HVoDh3u=s64",
      "userId": "07706439306199750899"
     },
     "user_tz": 480
    },
    "id": "MimfK6lp0vq9"
   },
   "outputs": [],
   "source": [
    "import numpy as np\n",
    "import jax.numpy as jnp\n",
    "import jax\n",
    "from matplotlib import pylab as plt\n",
    "\n",
    "from learned_optimization.outer_trainers import full_es\n",
    "from learned_optimization.outer_trainers import truncated_pes\n",
    "from learned_optimization.outer_trainers import gradient_learner\n",
    "from learned_optimization.outer_trainers import truncation_schedule\n",
    "\n",
    "from learned_optimization.tasks import quadratics\n",
    "from learned_optimization.tasks.fixed import image_mlp\n",
    "from learned_optimization.tasks import base as tasks_base\n",
    "\n",
    "from learned_optimization.learned_optimizers import base as lopt_base\n",
    "from learned_optimization.learned_optimizers import mlp_lopt\n",
    "from learned_optimization.optimizers import base as opt_base\n",
    "\n",
    "from learned_optimization import optimizers\n",
    "from learned_optimization import training\n",
    "from learned_optimization import eval_training\n",
    "\n",
    "import haiku as hk\n",
    "import tqdm"
   ]
  },
  {
   "cell_type": "markdown",
   "metadata": {
    "id": "vlBAN6agtoXy"
   },
   "source": [
    "In this notebook we build upon the previous notebook which discussed `TruncationSchedule` and `GradientEstimator`. Here, we leverage these components to provide more complete training functionality.\n",
    "We do not provide a full fledged training program -- only the computations that would need to be performed each iteration of meta-training.\n",
    "\n",
    "This code is **not** the only way to use the previous abstractions but can be convenient to avoid writing the same code over and over again. We encourage readers to write their own meta-training loops before diving into these abstractions."
   ]
  },
  {
   "cell_type": "markdown",
   "metadata": {
    "id": "a5iG2qpC8ttu"
   },
   "source": [
    "## Single machine meta-training: `SingleMachineGradientLearner`\n",
    "\n",
    "The `SingleMachineGradientLearner` provides the functionality to meta-train a learned optimizer with one or more gradient estimator. As an example, let's train a learned optimizer leveraging gradients from 2 different tasks: a quadratic task, and a fashion mnist mlp."
   ]
  },
  {
   "cell_type": "code",
   "execution_count": 11,
   "metadata": {
    "executionInfo": {
     "elapsed": 55,
     "status": "ok",
     "timestamp": 1642474445452,
     "user": {
      "displayName": "Luke Metz",
      "photoUrl": "https://lh3.googleusercontent.com/a-/AOh14Gif9m36RuSe53tMVslYQLofCkRX0_Y47HVoDh3u=s64",
      "userId": "07706439306199750899"
     },
     "user_tz": 480
    },
    "id": "txx2_SmH8NhL"
   },
   "outputs": [],
   "source": [
    "theta_opt = opt_base.Adam(1e-3)\n",
    "\n",
    "lopt = mlp_lopt.MLPLOpt()\n",
    "max_length = 300\n",
    "trunc_sched = truncation_schedule.LogUniformLengthSchedule(\n",
    "    min_length=100, max_length=max_length)\n",
    "\n",
    "\n",
    "def grad_est_fn(task_family):\n",
    "  return truncated_pes.TruncatedPES(\n",
    "      task_family=task_family,\n",
    "      learned_opt=lopt,\n",
    "      trunc_sched=trunc_sched,\n",
    "      num_tasks=4,\n",
    "      trunc_length=50,\n",
    "      random_initial_iteration_offset=max_length)\n",
    "\n",
    "\n",
    "mlp_task_family = tasks_base.single_task_to_family(\n",
    "    image_mlp.ImageMLP_FashionMnist8_Relu32())\n",
    "\n",
    "gradient_estimators = [\n",
    "    grad_est_fn(quadratics.FixedDimQuadraticFamily(10)),\n",
    "    grad_est_fn(mlp_task_family),\n",
    "]\n",
    "\n",
    "outer_trainer = gradient_learner.SingleMachineGradientLearner(\n",
    "    lopt, gradient_estimators, theta_opt)"
   ]
  },
  {
   "cell_type": "markdown",
   "metadata": {
    "id": "IKmWbqwhkxLp"
   },
   "source": [
    "To use this, we must first construct the initial state which contains a randomly initialized learned optimizer, as well as all the initial state of all the inner-problems (in this case, one set for the quadratics being trained, and the other from the MLP being trained)."
   ]
  },
  {
   "cell_type": "code",
   "execution_count": 12,
   "metadata": {
    "executionInfo": {
     "elapsed": 1877,
     "status": "ok",
     "timestamp": 1642474447458,
     "user": {
      "displayName": "Luke Metz",
      "photoUrl": "https://lh3.googleusercontent.com/a-/AOh14Gif9m36RuSe53tMVslYQLofCkRX0_Y47HVoDh3u=s64",
      "userId": "07706439306199750899"
     },
     "user_tz": 480
    },
    "id": "N78WoigVkmUb",
    "outputId": "449c35c3-462f-42a8-ec77-7a66529a82cb"
   },
   "outputs": [
    {
     "name": "stderr",
     "output_type": "stream",
     "text": [
      "  lax._check_user_dtype_supported(dtype, \"asarray\")\n"
     ]
    },
    {
     "data": {
      "text/plain": [
       "SingleMachineState(gradient_learner_state=GradientLearnerState(theta_opt_state=OptaxState(params={'mlp/~/linear_0': {'b': (32,), 'w': (19, 32)}, 'mlp/~/linear_1': {'b': (32,), 'w': (32, 32)}, 'mlp/~/linear_2': {'b': (2,), 'w': (32, 2)}}, state=None, optax_opt_state=(ScaleByAdamState(count=(), mu={'mlp/~/linear_0': {'b': (32,), 'w': (19, 32)}, 'mlp/~/linear_1': {'b': (32,), 'w': (32, 32)}, 'mlp/~/linear_2': {'b': (2,), 'w': (32, 2)}}, nu={'mlp/~/linear_0': {'b': (32,), 'w': (19, 32)}, 'mlp/~/linear_1': {'b': (32,), 'w': (32, 32)}, 'mlp/~/linear_2': {'b': (2,), 'w': (32, 2)}}), EmptyState()), iteration=())), gradient_estimator_states=[PESWorkerState(pos_state=SingleState(inner_opt_state=MLPLOptState(params=(4, 10), rolling_features=MomAccumulator(m=(4, 10, 6), t=(4, 6)), iteration=(4,), state=None), inner_step=(4,), truncation_state=ConstantTruncationState(length=(4,)), task_param=(4, 10), is_done=(4,)), neg_state=SingleState(inner_opt_state=MLPLOptState(params=(4, 10), rolling_features=MomAccumulator(m=(4, 10, 6), t=(4, 6)), iteration=(4,), state=None), inner_step=(4,), truncation_state=ConstantTruncationState(length=(4,)), task_param=(4, 10), is_done=(4,)), accumulator={'mlp/~/linear_0': {'b': (4, 32), 'w': (4, 19, 32)}, 'mlp/~/linear_1': {'b': (4, 32), 'w': (4, 32, 32)}, 'mlp/~/linear_2': {'b': (4, 2), 'w': (4, 32, 2)}}), PESWorkerState(pos_state=SingleState(inner_opt_state=MLPLOptState(params={'mlp/~/linear_0': {'b': (4, 32), 'w': (4, 64, 32)}, 'mlp/~/linear_1': {'b': (4, 10), 'w': (4, 32, 10)}}, rolling_features=MomAccumulator(m={'mlp/~/linear_0': {'b': (4, 32, 6), 'w': (4, 64, 32, 6)}, 'mlp/~/linear_1': {'b': (4, 10, 6), 'w': (4, 32, 10, 6)}}, t=(4, 6)), iteration=(4,), state=None), inner_step=(4,), truncation_state=ConstantTruncationState(length=(4,)), task_param=(4,), is_done=(4,)), neg_state=SingleState(inner_opt_state=MLPLOptState(params={'mlp/~/linear_0': {'b': (4, 32), 'w': (4, 64, 32)}, 'mlp/~/linear_1': {'b': (4, 10), 'w': (4, 32, 10)}}, rolling_features=MomAccumulator(m={'mlp/~/linear_0': {'b': (4, 32, 6), 'w': (4, 64, 32, 6)}, 'mlp/~/linear_1': {'b': (4, 10, 6), 'w': (4, 32, 10, 6)}}, t=(4, 6)), iteration=(4,), state=None), inner_step=(4,), truncation_state=ConstantTruncationState(length=(4,)), task_param=(4,), is_done=(4,)), accumulator={'mlp/~/linear_0': {'b': (4, 32), 'w': (4, 19, 32)}, 'mlp/~/linear_1': {'b': (4, 32), 'w': (4, 32, 32)}, 'mlp/~/linear_2': {'b': (4, 2), 'w': (4, 32, 2)}})])"
      ]
     },
     "execution_count": 12,
     "metadata": {},
     "output_type": "execute_result"
    }
   ],
   "source": [
    "key = jax.random.PRNGKey(0)\n",
    "outer_trainer_state = outer_trainer.init(key)\n",
    "jax.tree_map(lambda x: jnp.asarray(x).shape, outer_trainer_state)"
   ]
  },
  {
   "cell_type": "markdown",
   "metadata": {
    "id": "bR6qSqckl6XG"
   },
   "source": [
    "This SingleMachineState contains the state of the `gradient_learner` (or the weights of the learned optimizer being trained as well as any variables needed to train these weights such as momentums (`theta_opt_state`).\n",
    "It also contains the `gradient_estimator_states` which is a list containing the states of each gradient estimator.\n",
    "\n",
    "We can train a single meta-step as follows. Note this could take a few minutes to compile."
   ]
  },
  {
   "cell_type": "code",
   "execution_count": 13,
   "metadata": {
    "executionInfo": {
     "elapsed": 15796,
     "status": "ok",
     "timestamp": 1642474463407,
     "user": {
      "displayName": "Luke Metz",
      "photoUrl": "https://lh3.googleusercontent.com/a-/AOh14Gif9m36RuSe53tMVslYQLofCkRX0_Y47HVoDh3u=s64",
      "userId": "07706439306199750899"
     },
     "user_tz": 480
    },
    "id": "9lomKFrzkqkd",
    "outputId": "ee8eaff5-7920-49a0-bcf3-bfffbd752c93"
   },
   "outputs": [
    {
     "name": "stderr",
     "output_type": "stream",
     "text": [
      "  lax._check_user_dtype_supported(dtype, \"asarray\")\n"
     ]
    }
   ],
   "source": [
    "next_state, loss, metrics = outer_trainer.update(\n",
    "    outer_trainer_state, key, with_metrics=False)"
   ]
  },
  {
   "cell_type": "markdown",
   "metadata": {
    "id": "PZNCltmgmfug"
   },
   "source": [
    "Now let's meta-train a few steps and watch the meta-loss go down."
   ]
  },
  {
   "cell_type": "code",
   "execution_count": 14,
   "metadata": {
    "executionInfo": {
     "elapsed": 31861,
     "status": "ok",
     "timestamp": 1642474495485,
     "user": {
      "displayName": "Luke Metz",
      "photoUrl": "https://lh3.googleusercontent.com/a-/AOh14Gif9m36RuSe53tMVslYQLofCkRX0_Y47HVoDh3u=s64",
      "userId": "07706439306199750899"
     },
     "user_tz": 480
    },
    "id": "6q3_EN5qmle_",
    "outputId": "9e25f1b8-b2ec-4a60-e22d-ee3acc99c249"
   },
   "outputs": [
    {
     "name": "stderr",
     "output_type": "stream",
     "text": [
      "100%|██████████| 500/500 [00:31<00:00, 15.69it/s]\n"
     ]
    }
   ],
   "source": [
    "losses = []\n",
    "import tqdm\n",
    "\n",
    "import os\n",
    "# Pulling this from an environment variable so this file can be tested.\n",
    "outer_train_steps = int(os.environ.get(\"LOPT_META_TRAIN_LENGTH\", 500))\n",
    "\n",
    "for i in tqdm.trange(outer_train_steps):\n",
    "  outer_trainer_state, loss, metrics = outer_trainer.update(\n",
    "      outer_trainer_state, key, with_metrics=False)\n",
    "  losses.append(loss)"
   ]
  },
  {
   "cell_type": "code",
   "execution_count": 15,
   "metadata": {
    "colab": {
     "height": 282
    },
    "executionInfo": {
     "elapsed": 120,
     "status": "ok",
     "timestamp": 1642474495753,
     "user": {
      "displayName": "Luke Metz",
      "photoUrl": "https://lh3.googleusercontent.com/a-/AOh14Gif9m36RuSe53tMVslYQLofCkRX0_Y47HVoDh3u=s64",
      "userId": "07706439306199750899"
     },
     "user_tz": 480
    },
    "id": "cT_iJUTHmfWt",
    "outputId": "75cb6800-27c4-481c-938e-fd1b90f7e73e"
   },
   "outputs": [
    {
     "data": {
      "text/plain": [
       "[<matplotlib.lines.Line2D at 0x7f6730be3590>]"
      ]
     },
     "execution_count": 15,
     "metadata": {},
     "output_type": "execute_result"
    },
    {
     "data": {
      "image/png": "[encoded data removed]",
      "text/plain": [
       "<Figure size 600x400 with 1 Axes>"
      ]
     },
     "metadata": {},
     "output_type": "display_data"
    }
   ],
   "source": [
    "plt.plot(losses)"
   ]
  },
  {
   "cell_type": "code",
   "execution_count": 16,
   "metadata": {
    "executionInfo": {
     "elapsed": 3,
     "status": "ok",
     "timestamp": 1642474496032,
     "user": {
      "displayName": "Luke Metz",
      "photoUrl": "https://lh3.googleusercontent.com/a-/AOh14Gif9m36RuSe53tMVslYQLofCkRX0_Y47HVoDh3u=s64",
      "userId": "07706439306199750899"
     },
     "user_tz": 480
    },
    "id": "akK_PYCIkwDx",
    "outputId": "f86e1542-3e87-4af0-8379-cdf178b40caf"
   },
   "outputs": [
    {
     "data": {
      "text/plain": [
       "{'none||best_of_mean_loss': DeviceArray(5.5384226, dtype=float32),\n",
       " 'none||mean_loss': DeviceArray(5.5384226, dtype=float32)}"
      ]
     },
     "execution_count": 16,
     "metadata": {},
     "output_type": "execute_result"
    }
   ],
   "source": [
    "metrics"
   ]
  },
  {
   "cell_type": "markdown",
   "metadata": {
    "id": "kh27tduOwR3E"
   },
   "source": [
    "We see some oscillations in this loss value. This makes sense as we are meta-training with a truncated method. Depending on the location in the inner-problem the losses will be greater or smaller. With enough tasks this will average out, but often this is not required to obtain performant learned optimizers. This does mean, however, that evaluating a learned optimizer after the fact is important to obtain a realistic performance measurement."
   ]
  },
  {
   "cell_type": "markdown",
   "metadata": {
    "id": "gKImCte3n5gF"
   },
   "source": [
    "## Manual meta-gradient aggregation with applications to distributed training\n",
    "\n",
    "Often when training a learned optimizer we seek to estimate meta-gradients over a wide variety of tasks spread across a number of different machines.\n",
    "To do this we need to be explicit about what data needs to be sent from the central learner to compute updates (usually just the weights of the learned optimizer) and what data needs to be sent back (aggregated gradients + metrics and **not** the state of the unrolls for each inner-problem.)\n",
    "\n",
    "To help manage this, we provide a class to manage the central learner's computation, and a function to compute updates which would run on each worker.\n",
    "\n",
    "\n",
    "As this demo is in a colab, we will do everything in one process.\n",
    "First, we will create the central learner. This is responsible for taking in gradients, updating the weights of the learned optimizer, and providing new data back to the workers."
   ]
  },
  {
   "cell_type": "code",
   "execution_count": 73,
   "metadata": {
    "executionInfo": {
     "elapsed": 2,
     "status": "ok",
     "timestamp": 1642475145999,
     "user": {
      "displayName": "Luke Metz",
      "photoUrl": "https://lh3.googleusercontent.com/a-/AOh14Gif9m36RuSe53tMVslYQLofCkRX0_Y47HVoDh3u=s64",
      "userId": "07706439306199750899"
     },
     "user_tz": 480
    },
    "id": "SbWqD3pbl3BW"
   },
   "outputs": [],
   "source": [
    "theta_opt = opt_base.Adam(1e-3)\n",
    "central_learner = gradient_learner.GradientLearner(lopt, theta_opt)"
   ]
  },
  {
   "cell_type": "code",
   "execution_count": 74,
   "metadata": {
    "executionInfo": {
     "elapsed": 84,
     "status": "ok",
     "timestamp": 1642475146666,
     "user": {
      "displayName": "Luke Metz",
      "photoUrl": "https://lh3.googleusercontent.com/a-/AOh14Gif9m36RuSe53tMVslYQLofCkRX0_Y47HVoDh3u=s64",
      "userId": "07706439306199750899"
     },
     "user_tz": 480
    },
    "id": "SuKABLjk3D9R",
    "outputId": "c69694a8-11fd-4112-91a4-b0711f1efc7b"
   },
   "outputs": [
    {
     "data": {
      "text/plain": [
       "GradientLearnerState(theta_opt_state=OptaxState(params={'mlp/~/linear_0': {'b': (32,), 'w': (19, 32)}, 'mlp/~/linear_1': {'b': (32,), 'w': (32, 32)}, 'mlp/~/linear_2': {'b': (2,), 'w': (32, 2)}}, state=None, optax_opt_state=(ScaleByAdamState(count=(), mu={'mlp/~/linear_0': {'b': (32,), 'w': (19, 32)}, 'mlp/~/linear_1': {'b': (32,), 'w': (32, 32)}, 'mlp/~/linear_2': {'b': (2,), 'w': (32, 2)}}, nu={'mlp/~/linear_0': {'b': (32,), 'w': (19, 32)}, 'mlp/~/linear_1': {'b': (32,), 'w': (32, 32)}, 'mlp/~/linear_2': {'b': (2,), 'w': (32, 2)}}), EmptyState()), iteration=()))"
      ]
     },
     "execution_count": 74,
     "metadata": {},
     "output_type": "execute_result"
    }
   ],
   "source": [
    "key = jax.random.PRNGKey(0)\n",
    "central_state = central_learner.init(key)\n",
    "jax.tree_map(lambda x: jnp.asarray(x).shape, central_state)"
   ]
  },
  {
   "cell_type": "markdown",
   "metadata": {
    "id": "YmbKXLcL3zDB"
   },
   "source": [
    "We can see here that this just contains the weights of the learned optimizer, plus the extra accumulators used by adam.\n",
    "\n",
    "Next, we can compute gradient estimators, but first we must get the required state from the learner."
   ]
  },
  {
   "cell_type": "code",
   "execution_count": 75,
   "metadata": {
    "executionInfo": {
     "elapsed": 2,
     "status": "ok",
     "timestamp": 1642475147260,
     "user": {
      "displayName": "Luke Metz",
      "photoUrl": "https://lh3.googleusercontent.com/a-/AOh14Gif9m36RuSe53tMVslYQLofCkRX0_Y47HVoDh3u=s64",
      "userId": "07706439306199750899"
     },
     "user_tz": 480
    },
    "id": "1MunNqVl4TSH"
   },
   "outputs": [],
   "source": [
    "worker_weights = central_learner.get_state_for_worker(central_state)"
   ]
  },
  {
   "cell_type": "markdown",
   "metadata": {
    "id": "GrBAGdre4bWI"
   },
   "source": [
    "Next, we can compute gradients on a given worker. As before we need to get a list of gradient estimators. We can use the same set we used before."
   ]
  },
  {
   "cell_type": "code",
   "execution_count": 76,
   "metadata": {
    "executionInfo": {
     "elapsed": 140,
     "status": "ok",
     "timestamp": 1642475147690,
     "user": {
      "displayName": "Luke Metz",
      "photoUrl": "https://lh3.googleusercontent.com/a-/AOh14Gif9m36RuSe53tMVslYQLofCkRX0_Y47HVoDh3u=s64",
      "userId": "07706439306199750899"
     },
     "user_tz": 480
    },
    "id": "D5EfexNg5H6p"
   },
   "outputs": [],
   "source": [
    "max_length = 300\n",
    "trunc_sched = truncation_schedule.LogUniformLengthSchedule(\n",
    "    min_length=100, max_length=max_length)\n",
    "\n",
    "\n",
    "def grad_est_fn(task_family):\n",
    "  return truncated_pes.TruncatedPES(\n",
    "      task_family=task_family,\n",
    "      learned_opt=lopt,\n",
    "      trunc_sched=trunc_sched,\n",
    "      num_tasks=16,\n",
    "      trunc_length=50,\n",
    "      random_initial_iteration_offset=max_length)\n",
    "\n",
    "\n",
    "mlp_task_family = tasks_base.single_task_to_family(\n",
    "    image_mlp.ImageMLP_FashionMnist8_Relu32())\n",
    "\n",
    "gradient_estimators = [\n",
    "    grad_est_fn(quadratics.FixedDimQuadraticFamily(10)),\n",
    "    grad_est_fn(mlp_task_family)\n",
    "]"
   ]
  },
  {
   "cell_type": "markdown",
   "metadata": {
    "id": "tmJEzRjw5LSA"
   },
   "source": [
    "Next, we need to kick things off by first computing the initial states for each of the gradient estimators."
   ]
  },
  {
   "cell_type": "code",
   "execution_count": 77,
   "metadata": {
    "executionInfo": {
     "elapsed": 2654,
     "status": "ok",
     "timestamp": 1642475150735,
     "user": {
      "displayName": "Luke Metz",
      "photoUrl": "https://lh3.googleusercontent.com/a-/AOh14Gif9m36RuSe53tMVslYQLofCkRX0_Y47HVoDh3u=s64",
      "userId": "07706439306199750899"
     },
     "user_tz": 480
    },
    "id": "gsPQvD4Y5RQd",
    "outputId": "f99121fc-f543-427d-e882-d21819330d75"
   },
   "outputs": [
    {
     "name": "stderr",
     "output_type": "stream",
     "text": [
      "  lax._check_user_dtype_supported(dtype, \"asarray\")\n"
     ]
    }
   ],
   "source": [
    "unroll_states = [\n",
    "    grad.init_worker_state(worker_weights, key=jax.random.fold_in(key, i))\n",
    "    for (i, grad) in enumerate(gradient_estimators)\n",
    "]"
   ]
  },
  {
   "cell_type": "markdown",
   "metadata": {
    "id": "gE4nf01r6AcB"
   },
   "source": [
    "Next we can use these states to estimate a meta-gradient!"
   ]
  },
  {
   "cell_type": "code",
   "execution_count": 78,
   "metadata": {
    "executionInfo": {
     "elapsed": 18204,
     "status": "ok",
     "timestamp": 1642475169126,
     "user": {
      "displayName": "Luke Metz",
      "photoUrl": "https://lh3.googleusercontent.com/a-/AOh14Gif9m36RuSe53tMVslYQLofCkRX0_Y47HVoDh3u=s64",
      "userId": "07706439306199750899"
     },
     "user_tz": 480
    },
    "id": "sd_DuFzS3Gr8",
    "outputId": "fb768953-cdcb-4a30-d4fc-8b3243526a5d"
   },
   "outputs": [
    {
     "name": "stderr",
     "output_type": "stream",
     "text": [
      "  lax._check_user_dtype_supported(dtype, \"asarray\")\n"
     ]
    }
   ],
   "source": [
    "out = gradient_learner.gradient_worker_compute(\n",
    "    worker_weights,\n",
    "    gradient_estimators,\n",
    "    unroll_states,\n",
    "    key=key,\n",
    "    with_metrics=False)"
   ]
  },
  {
   "cell_type": "markdown",
   "metadata": {
    "id": "B01vLh7V5-zu"
   },
   "source": [
    "This produces a couple of different outputs bundled together in a dataclass."
   ]
  },
  {
   "cell_type": "code",
   "execution_count": 79,
   "metadata": {
    "executionInfo": {
     "elapsed": 3,
     "status": "ok",
     "timestamp": 1642475169475,
     "user": {
      "displayName": "Luke Metz",
      "photoUrl": "https://lh3.googleusercontent.com/a-/AOh14Gif9m36RuSe53tMVslYQLofCkRX0_Y47HVoDh3u=s64",
      "userId": "07706439306199750899"
     },
     "user_tz": 480
    },
    "id": "Ax495URy6LSA",
    "outputId": "cd669daf-5d28-4868-c046-f0b6d2b0af86"
   },
   "outputs": [
    {
     "data": {
      "text/plain": [
       "['event_info', 'metrics', 'to_put', 'unroll_states']"
      ]
     },
     "execution_count": 79,
     "metadata": {},
     "output_type": "execute_result"
    }
   ],
   "source": [
    "[x for x in dir(out) if not x.startswith(\"__\") and x != \"replace\"]"
   ]
  },
  {
   "cell_type": "markdown",
   "metadata": {
    "id": "HI-xgDib0c6d"
   },
   "source": [
    "Most importantly we have `to_put` which contains information that should be sent to the central learner, and `unroll_states` which contains the next unroll states."
   ]
  },
  {
   "cell_type": "markdown",
   "metadata": {
    "id": "VAKMmIRt6e60"
   },
   "source": [
    "Now with more than one worker, we would pass back a list of these gradients. In this demo, we will just use a single one, and pass this directly into the central learner to get the next meta-iteration. With more workers, this would contain a different gradient estimator from each worker."
   ]
  },
  {
   "cell_type": "code",
   "execution_count": 80,
   "metadata": {
    "executionInfo": {
     "elapsed": 185,
     "status": "ok",
     "timestamp": 1642475170013,
     "user": {
      "displayName": "Luke Metz",
      "photoUrl": "https://lh3.googleusercontent.com/a-/AOh14Gif9m36RuSe53tMVslYQLofCkRX0_Y47HVoDh3u=s64",
      "userId": "07706439306199750899"
     },
     "user_tz": 480
    },
    "id": "pne3-Yy147tW"
   },
   "outputs": [],
   "source": [
    "grads_list = [out.to_put]\n",
    "central_state, metrics = central_learner.update(central_state, grads_list)"
   ]
  },
  {
   "cell_type": "markdown",
   "metadata": {
    "id": "i0H_re9cVW1b"
   },
   "source": [
    "And we can do this over and over again. This time let's do it with more than one gradient estimate."
   ]
  },
  {
   "cell_type": "code",
   "execution_count": 81,
   "metadata": {
    "executionInfo": {
     "elapsed": 62042,
     "status": "ok",
     "timestamp": 1642475232310,
     "user": {
      "displayName": "Luke Metz",
      "photoUrl": "https://lh3.googleusercontent.com/a-/AOh14Gif9m36RuSe53tMVslYQLofCkRX0_Y47HVoDh3u=s64",
      "userId": "07706439306199750899"
     },
     "user_tz": 480
    },
    "id": "KNIUGUvKVwld",
    "outputId": "37709a54-0c73-4210-9eb1-54dbe9fa0575"
   },
   "outputs": [
    {
     "name": "stderr",
     "output_type": "stream",
     "text": [
      "100%|██████████| 500/500 [01:02<00:00,  8.06it/s]\n"
     ]
    }
   ],
   "source": [
    "losses = []\n",
    "\n",
    "outer_train_steps = int(os.environ.get(\"LOPT_META_TRAIN_LENGTH\", 500))\n",
    "\n",
    "for i in tqdm.trange(outer_train_steps):\n",
    "  worker_weights = central_learner.get_state_for_worker(central_state)\n",
    "\n",
    "  key1, key = jax.random.split(key)\n",
    "  out = gradient_learner.gradient_worker_compute(\n",
    "      worker_weights,\n",
    "      gradient_estimators,\n",
    "      unroll_states,\n",
    "      key=key1,\n",
    "      with_metrics=False)\n",
    "  # extract the next unroll state output for the next iteration.\n",
    "  unroll_states = out.unroll_states\n",
    "\n",
    "  central_state, metrics = central_learner.update(central_state, [out.to_put])\n",
    "  losses.append(out.to_put.mean_loss)"
   ]
  },
  {
   "cell_type": "code",
   "execution_count": 82,
   "metadata": {
    "colab": {
     "height": 282
    },
    "executionInfo": {
     "elapsed": 227,
     "status": "ok",
     "timestamp": 1642475232707,
     "user": {
      "displayName": "Luke Metz",
      "photoUrl": "https://lh3.googleusercontent.com/a-/AOh14Gif9m36RuSe53tMVslYQLofCkRX0_Y47HVoDh3u=s64",
      "userId": "07706439306199750899"
     },
     "user_tz": 480
    },
    "id": "WszEeLOBJw0x",
    "outputId": "64a2a6f2-9032-40d9-c1fc-5af448bcedde"
   },
   "outputs": [
    {
     "data": {
      "text/plain": [
       "[<matplotlib.lines.Line2D at 0x7f67290ff290>]"
      ]
     },
     "execution_count": 82,
     "metadata": {},
     "output_type": "execute_result"
    },
    {
     "data": {
      "image/png": "[encoded data removed]",
      "text/plain": [
       "<Figure size 600x400 with 1 Axes>"
      ]
     },
     "metadata": {},
     "output_type": "display_data"
    }
   ],
   "source": [
    "plt.plot(losses)"
   ]
  }
 ],
 "metadata": {
  "colab": {
   "collapsed_sections": [],
   "name": "Part 4: Meta-training with GradientLearner",
   "provenance": [
    {
     "file_id": "1o5ysb_wGqcLhoZNg86OW_HuRI7S-XRvY",
     "timestamp": 1642477083281
    }
   ]
  },
  "jupytext": {
   "formats": "ipynb,md:myst,py",
   "main_language": "python"
  },
  "kernelspec": {
   "display_name": "Python 3",
   "name": "python3"
  },
  "language_info": {
   "name": "python"
  }
 },
 "nbformat": 4,
 "nbformat_minor": 0
}
